{
 "cells": [
  {
   "cell_type": "code",
   "execution_count": 1,
   "metadata": {},
   "outputs": [],
   "source": [
    "import numpy as np"
   ]
  },
  {
   "cell_type": "markdown",
   "metadata": {},
   "source": [
    "## №2"
   ]
  },
  {
   "cell_type": "code",
   "execution_count": 2,
   "metadata": {},
   "outputs": [],
   "source": [
    "def order(a):\n",
    "    '''Сортирует массив индексов от нуля до m исходя из a[i]\n",
    "    >>> a.shape\n",
    "    (n,)\n",
    "    '''\n",
    "    m = a.shape[0] #длина списка\n",
    "    b, c = np.arange(m), a.copy() #список индексов, массив\n",
    "    #сортировка пузырьком\n",
    "    for i in range(m - 1):\n",
    "        for j in range(m - 1):\n",
    "            if c[j] >= c[j + 1]:\n",
    "                c[j], c[j + 1] = c[j + 1], c[j]\n",
    "                b[j], b[j + 1] = b[j + 1], b[j]\n",
    "    return b"
   ]
  },
  {
   "cell_type": "code",
   "execution_count": 3,
   "metadata": {},
   "outputs": [
    {
     "name": "stdout",
     "output_type": "stream",
     "text": [
      "[[9 8 6 8 0 1]\n",
      " [2 7 3 5 4 5]\n",
      " [4 2 6 5 5 7]\n",
      " [0 2 5 9 4 4]\n",
      " [5 7 8 8 7 8]]\n",
      "\n",
      "[[0 1 6 8 8 9]\n",
      " [4 5 3 7 5 2]\n",
      " [5 7 6 2 5 4]\n",
      " [4 4 5 2 9 0]\n",
      " [7 8 8 7 8 5]]\n"
     ]
    }
   ],
   "source": [
    "a = np.random.randint(10, size=(5, 6))\n",
    "print(a, a[:, order(a[0])], sep='\\n\\n')"
   ]
  },
  {
   "cell_type": "markdown",
   "metadata": {},
   "source": [
    "## №3"
   ]
  },
  {
   "cell_type": "code",
   "execution_count": 4,
   "metadata": {},
   "outputs": [],
   "source": [
    "def smoothing(a):\n",
    "    n, m = a.shape #размерность матрицы\n",
    "    b = np.zeros(a.shape) #матрица из нулей для заполнения\n",
    "    for i in range(n):\n",
    "        for j in range(m):\n",
    "            p = a[(i + 1) % n, j] #сосед справа\n",
    "            q = a[(i - 1) % n, j] #сосед слева\n",
    "            r = a[i, (j + 1) % m] #сосед снизу\n",
    "            s = a[i, (j - 1) % m] #сосед справа\n",
    "            b[i, j] = (p + q + r + s) / 4 #среднее арифметическое соседей\n",
    "    return b"
   ]
  },
  {
   "cell_type": "code",
   "execution_count": 5,
   "metadata": {},
   "outputs": [
    {
     "name": "stdout",
     "output_type": "stream",
     "text": [
      "[[6 3 3 5 4 2]\n",
      " [8 4 0 4 0 7]\n",
      " [4 2 8 6 8 1]\n",
      " [8 3 9 3 9 7]\n",
      " [5 0 8 3 3 6]]\n",
      "\n",
      "[[4.5  3.25 4.   3.5  2.5  5.75]\n",
      " [5.25 3.25 4.75 2.75 5.75 2.75]\n",
      " [4.75 4.75 4.25 5.75 4.   6.5 ]\n",
      " [4.75 4.75 5.5  6.75 5.25 6.  ]\n",
      " [5.   4.75 3.75 4.75 5.5  4.25]]\n"
     ]
    }
   ],
   "source": [
    "a = np.random.randint(10, size=(5, 6))\n",
    "print(a, smoothing(a), sep='\\n\\n')"
   ]
  },
  {
   "cell_type": "markdown",
   "metadata": {},
   "source": [
    "## №4"
   ]
  },
  {
   "cell_type": "code",
   "execution_count": 6,
   "metadata": {},
   "outputs": [],
   "source": [
    "def secondary_mirroring(a):\n",
    "    n, m = a.shape #размерность\n",
    "    b = np.zeros((m, n), dtype='int64') #заготовка из нулей\n",
    "    for i in range(n):\n",
    "        for j in range(m):\n",
    "            b[m - j - 1, n - i - 1] = a[i, j] #побочнодиагональное отзеркаливание\n",
    "    return b"
   ]
  },
  {
   "cell_type": "code",
   "execution_count": 7,
   "metadata": {},
   "outputs": [
    {
     "name": "stdout",
     "output_type": "stream",
     "text": [
      "[[3 2 0 6 1 8]\n",
      " [8 2 2 1 0 0]\n",
      " [7 3 3 0 0 8]\n",
      " [1 7 6 2 1 6]\n",
      " [0 5 1 6 2 1]]\n",
      "\n",
      "[[1 6 8 0 8]\n",
      " [2 1 0 0 1]\n",
      " [6 2 0 1 6]\n",
      " [1 6 3 2 0]\n",
      " [5 7 3 2 2]\n",
      " [0 1 7 8 3]]\n"
     ]
    }
   ],
   "source": [
    "a = np.random.randint(10, size=(5, 6))\n",
    "print(a, secondary_mirroring(a), sep='\\n\\n')"
   ]
  },
  {
   "cell_type": "markdown",
   "metadata": {},
   "source": [
    "## №5"
   ]
  },
  {
   "cell_type": "code",
   "execution_count": 8,
   "metadata": {},
   "outputs": [],
   "source": [
    "def zmeyuka(m, n):\n",
    "    b = np.arange(1, 1 + m*n).reshape((m, n)) #нарезаем arange\n",
    "    for i in range(m):\n",
    "        if i % 2:\n",
    "            b[i] = b[i, ::-1] #разворачиваем каждую вторую строку\n",
    "    return b"
   ]
  },
  {
   "cell_type": "code",
   "execution_count": 9,
   "metadata": {
    "scrolled": false
   },
   "outputs": [
    {
     "name": "stdout",
     "output_type": "stream",
     "text": [
      "[[  1   2   3   4   5   6   7   8   9  10  11  12  13  14  15  16  17  18]\n",
      " [ 36  35  34  33  32  31  30  29  28  27  26  25  24  23  22  21  20  19]\n",
      " [ 37  38  39  40  41  42  43  44  45  46  47  48  49  50  51  52  53  54]\n",
      " [ 72  71  70  69  68  67  66  65  64  63  62  61  60  59  58  57  56  55]\n",
      " [ 73  74  75  76  77  78  79  80  81  82  83  84  85  86  87  88  89  90]\n",
      " [108 107 106 105 104 103 102 101 100  99  98  97  96  95  94  93  92  91]\n",
      " [109 110 111 112 113 114 115 116 117 118 119 120 121 122 123 124 125 126]\n",
      " [144 143 142 141 140 139 138 137 136 135 134 133 132 131 130 129 128 127]\n",
      " [145 146 147 148 149 150 151 152 153 154 155 156 157 158 159 160 161 162]\n",
      " [180 179 178 177 176 175 174 173 172 171 170 169 168 167 166 165 164 163]\n",
      " [181 182 183 184 185 186 187 188 189 190 191 192 193 194 195 196 197 198]\n",
      " [216 215 214 213 212 211 210 209 208 207 206 205 204 203 202 201 200 199]\n",
      " [217 218 219 220 221 222 223 224 225 226 227 228 229 230 231 232 233 234]\n",
      " [252 251 250 249 248 247 246 245 244 243 242 241 240 239 238 237 236 235]\n",
      " [253 254 255 256 257 258 259 260 261 262 263 264 265 266 267 268 269 270]\n",
      " [288 287 286 285 284 283 282 281 280 279 278 277 276 275 274 273 272 271]\n",
      " [289 290 291 292 293 294 295 296 297 298 299 300 301 302 303 304 305 306]\n",
      " [324 323 322 321 320 319 318 317 316 315 314 313 312 311 310 309 308 307]]\n"
     ]
    }
   ],
   "source": [
    "n = 18\n",
    "print(zmeyuka(n, n))"
   ]
  }
 ],
 "metadata": {
  "kernelspec": {
   "display_name": "Python 3",
   "language": "python",
   "name": "python3"
  },
  "language_info": {
   "codemirror_mode": {
    "name": "ipython",
    "version": 3
   },
   "file_extension": ".py",
   "mimetype": "text/x-python",
   "name": "python",
   "nbconvert_exporter": "python",
   "pygments_lexer": "ipython3",
   "version": "3.7.6"
  }
 },
 "nbformat": 4,
 "nbformat_minor": 4
}
